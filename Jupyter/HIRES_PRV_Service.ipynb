{
 "cells": [
  {
   "cell_type": "markdown",
   "metadata": {},
   "source": [
    "# Keck HIRES Precision Radial Velocity Data Reduction \n",
    "\n",
    "<b><i>This service enables reduction and analysis of precision radial velocity (PRV) data from the HIRES Keck instrument. </i></b>"
   ]
  },
  {
   "cell_type": "markdown",
   "metadata": {},
   "source": [
    "<i><b><font style=\"color: red;\">This notebook is not part of the official release, not even for alpha testing.  The project found it useful for its own testing but makes no guarantees it will even work for anyone else.  Use, and even read, at your own risk.</font></b></i>\n",
    "\n",
    "This notebook introduces the Keck HIRES Precision Radial Velocity (PRV) pipeline service and works through one specific example. There are number of variations, mostly having to do with planning processing, which will be covered in more detail by other notebooks but here you will see all the basics.\n",
    "\n",
    "The notebook is kept with the HIRES PRV Python access toolkit in <a href=\"https://github.com/Caltech-IPAC/hiresprv\">GitHub: https://github.com/Caltech-IPAC/hiresprv</a>"
   ]
  },
  {
   "cell_type": "markdown",
   "metadata": {},
   "source": [
    "## Login\n",
    "\n",
    "Logging in the first time creates a workspace for the user and associates it with a KOA account.\n",
    "\n",
    "Users of this service must have Keck On-line Archive (KOA) accounts and use that login here to gain access to their data.  Even researchers planning to use only public data will need a KOA login as this service is maintaining persistent storage under that ID.\n",
    "\n",
    "The login is persisted through the use of HTTP cookies and logging in from multiple clients will connect the user to the same account, storage, and processing history.  This environment (user workspace) is permanent as we expect some on-going research to span years.  The login for a give client machine need only be done once, assuming the cookie file in the local storage is not deleted.  If it is, logging in again will reconstruct it.\n",
    "\n",
    "The cookie file, processing state information, and downloaded results like 1D spectra and RV curve tables will be kept locally in the same space as this notebook.  If you wish to change that, simply add in whatever directory management and navigation you like."
   ]
  },
  {
   "cell_type": "code",
   "execution_count": 1,
   "metadata": {},
   "outputs": [
    {
     "name": "stdout",
     "output_type": "stream",
     "text": [
      "KOA userid: koaadmin\n",
      "KOA Password: ········\n",
      "Successful login as koaadmin\n"
     ]
    }
   ],
   "source": [
    "from IPython.display import IFrame\n",
    "from hiresprv.auth import login\n",
    "\n",
    "login('prv.cookies')\n"
   ]
  },
  {
   "cell_type": "markdown",
   "metadata": {},
   "source": [
    "## KOA Data Retrieval\n",
    "\n",
    "The PRV workspace first needs to be populated with data from the KOA Archive.  This can be done all at once, if the data exists, or incrementally as the data is taken/identified.\n",
    "\n",
    "This step is more than a simple data transfer.  \"Raw reduction\" of the data, which converts the 2D CCD spectal images to 1D spectra, is done up-front as the data is retrieved a night at a time.  The UT dates you give here are actually shifted a few hours to catch any calibration data collected in the afternoon of the same (Hawaii-local) day."
   ]
  },
  {
   "cell_type": "code",
   "execution_count": 2,
   "metadata": {},
   "outputs": [
    {
     "name": "stdout",
     "output_type": "stream",
     "text": [
      "{\n",
      "    \"status\": \"ok\",\n",
      "    \"msg\": \"Processing dates in background.\"\n",
      "}\n",
      "\n"
     ]
    }
   ],
   "source": [
    "from hiresprv.archive import Archive\n",
    "\n",
    "koa = Archive('prv.cookies')\n",
    "\n",
    "rtn = koa.by_dates(\"\"\"2009-12-31\n",
    "2013-06-29\n",
    "2013-09-12\n",
    "2015-06-06\"\"\")\n"
   ]
  },
  {
   "cell_type": "markdown",
   "metadata": {},
   "source": [
    "\n",
    "\n",
    "Note that since the data in the workspace is permanent, repeated request for the same data would not change anything and so those dates will be ignored.  Therefore, you can add to the above list or replace it with new dates as you choose.  Dates must be formatted YYYY-MM-DD (a KOA requirement).\n",
    "\n",
    "The above service responds immediately with an acknowledgement of the request and starts the actual transfer and raw data reduction (which can take some time) as a background job.  The job status can be checked by polling or can be monitored using the function below.  While one retrieval job (or processing job below) is running, no others can be initiated."
   ]
  },
  {
   "cell_type": "markdown",
   "metadata": {},
   "source": [
    "## PRV Processing Monitor\n",
    "\n",
    "Some steps in the PRV processing can take quite a long time (hours) and we do not want to tie up this notebook page waiting for it to finish.  Below we show how to retrieve a snapshot of the status (and you would have to poll manually to track the progress of the job) but the preferred approach is to start a real-time monitor in a custom page/tab which uses Javascript and an HTTP Event stream.  Run the next cell to generate a link to this monitor:"
   ]
  },
  {
   "cell_type": "code",
   "execution_count": 3,
   "metadata": {},
   "outputs": [
    {
     "data": {
      "text/html": [
       "Launch <a href=\"http://hiresprv.ipac.caltech.edu/applications/prvMonitor/monitor.html?workspace=prv_20180827_151259_7663\" target=\"_blank\">real-time monitor</a>."
      ],
      "text/plain": [
       "<IPython.core.display.HTML object>"
      ]
     },
     "execution_count": 3,
     "metadata": {},
     "output_type": "execute_result"
    }
   ],
   "source": [
    "from hiresprv.status import Status\n",
    "from IPython.core.display import HTML\n",
    "\n",
    "monitor = Status('prv.cookies')\n",
    "\n",
    "link = monitor.generate_link()\n",
    "\n",
    "HTML(link)"
   ]
  },
  {
   "cell_type": "markdown",
   "metadata": {},
   "source": [
    "But if you still want a static status snapshoot, run the following:"
   ]
  },
  {
   "cell_type": "code",
   "execution_count": 6,
   "metadata": {
    "scrolled": false
   },
   "outputs": [
    {
     "data": {
      "text/html": [
       "\n",
       "        <iframe\n",
       "            width=\"950\"\n",
       "            height=\"500\"\n",
       "            src=\"http://hiresprv.ipac.caltech.edu/cgi-bin/prvMonitor/nph-prvStatus?workspace=prv_20180827_151259_7663&format=html\"\n",
       "            frameborder=\"0\"\n",
       "            allowfullscreen\n",
       "        ></iframe>\n",
       "        "
      ],
      "text/plain": [
       "<IPython.lib.display.IFrame at 0x1040d9ba8>"
      ]
     },
     "execution_count": 6,
     "metadata": {},
     "output_type": "execute_result"
    }
   ],
   "source": [
    "from hiresprv.status import Status\n",
    "\n",
    "monitor = Status('prv.cookies')\n",
    "\n",
    "url = monitor.processing_status()\n",
    "\n",
    "IFrame(url, 950, 500)"
   ]
  },
  {
   "cell_type": "markdown",
   "metadata": {},
   "source": [
    "## Metadata\n",
    "\n",
    "Once data have been retrieve and the \"nightly\" raw reduction performed, a set of records is added to a persistent metadata table, one per observation.  These observations are all taken through the HIRES PRV instrument (2D CCD) and will have been reduced to 1D spectra by the raw reduction.  They fall into five classes:\n",
    "\n",
    "<ul>\n",
    "<li><b>RV observations</b> -- Multiple observations of a star with the iodine cell in the light path.  These are the measurements that each actually result in a calculation of a radial velocity.<p/></li>\n",
    "    \n",
    "<li><b>Templates</b> -- One long observation of the same star without iodine, for reference.<p/></li>\n",
    "    \n",
    "<li><b>B stars</b> -- A set of observations of rapidly rotating B stars bracketing the template observation and used to reduce it.<p/></li>\n",
    "    \n",
    "<li><b>Iodine</b> -- Reference observation of iodine for nightly calibration.<p/></li>\n",
    "    \n",
    "<li>Miscellaneous other calibration observations (labelled as \"<b>Unknown</b>\").<p/></li>\n",
    "</ul>\n",
    "\n",
    "By inspecting this table, the user can determine what objects were observed, whether there are template observations for them (and adequate B star data to reduce a template), and whether there are enough RV measurements to generate a final RV curve.\n",
    "\n",
    "With a small metadata table, this is simple enough to do by inspection but a typical workspace can easily have thousands of files covering tens or hundreds of objects.  Furthermore, since observations for a single object are frequently spread out over years, the metadata table is often fairly thorougly mixed in time.\n",
    "\n",
    "Luckily, there are a number of tools available in client-side Python subset and organize the metadata, so we provide it for download as a CSV table or an SQLite binary file or even, as here, as a simple HTML table.  The workspace copy of the data is maintained in an SQLite database so we also provide a basic filtering mechanism as an optional addition to the download.  This filtering is often adequate for basic processing scenarios.  \n",
    "\n",
    "Note that metadata retrieval can't be done while the system is \"busy\" (downloading additional data or further reducing data in the workspace). Otherwise, metadata downloads can be done at any time.\n",
    "\n",
    "Also note that the client-side file will become out-of-date once new data download or processing requests are submitted.  It is up to the user to re-request the new metadata.\n"
   ]
  },
  {
   "cell_type": "code",
   "execution_count": 4,
   "metadata": {},
   "outputs": [
    {
     "data": {
      "text/html": [
       "\n",
       "        <iframe\n",
       "            width=\"950\"\n",
       "            height=\"500\"\n",
       "            src=\"http://prvdev.ipac.caltech.edu:9020/cgi-bin/idlDriver/nph-prvState?workspace=prv_20181214_142727_25689&format=html\"\n",
       "            frameborder=\"0\"\n",
       "            allowfullscreen\n",
       "        ></iframe>\n",
       "        "
      ],
      "text/plain": [
       "<IPython.lib.display.IFrame at 0x10cc84898>"
      ]
     },
     "execution_count": 4,
     "metadata": {},
     "output_type": "execute_result"
    }
   ],
   "source": [
    "from hiresprv.database import Database\n",
    "\n",
    "state = Database('prv.cookies')\n",
    "\n",
    "url = state.search()\n",
    "\n",
    "IFrame(url, 950,  500)"
   ]
  },
  {
   "cell_type": "markdown",
   "metadata": {},
   "source": [
    "## Subsetting the Metadata: Single Target\n",
    "\n",
    "Ultimately, to make an RV curve for one star we need to reduce its observations into RV measurements.  Assuming there are adequate B star observations to reduce the template, we can isolate appropriate records in the metadata above by simply filtering on TARGET name.  There are many ways to do this; in our case we we used the remote SQLite query capability and filtered it with <p/>\n",
    "\n",
    "<tt>select DATE, OBTYPE, FILENAME, TARGET, BJD, BCVEL from FILES where TARGET like 'HD185144';</tt> \n",
    "\n",
    "The resulting records are shown below."
   ]
  },
  {
   "cell_type": "code",
   "execution_count": 5,
   "metadata": {
    "scrolled": true
   },
   "outputs": [
    {
     "data": {
      "text/html": [
       "\n",
       "        <iframe\n",
       "            width=\"700\"\n",
       "            height=\"325\"\n",
       "            src=\"http://prvdev.ipac.caltech.edu:9020/cgi-bin/idlDriver/nph-prvState?workspace=prv_20181214_142727_25689&format=html&sql=select DATE, OBTYPE, FILENAME, TARGET, BJD, BCVEL from FILES where TARGET like 'HD185144';\"\n",
       "            frameborder=\"0\"\n",
       "            allowfullscreen\n",
       "        ></iframe>\n",
       "        "
      ],
      "text/plain": [
       "<IPython.lib.display.IFrame at 0x10b455898>"
      ]
     },
     "execution_count": 5,
     "metadata": {},
     "output_type": "execute_result"
    }
   ],
   "source": [
    "url = state.search(sql=\"select DATE, OBTYPE, FILENAME, TARGET, BJD, BCVEL from FILES where TARGET like 'HD185144';\")\n",
    "\n",
    "IFrame(url, 700,  325)"
   ]
  },
  {
   "cell_type": "markdown",
   "metadata": {},
   "source": [
    "### RV Pipeline Processing\n",
    "\n",
    "This shows that on 12/31/2009 three separate RV observations were made of HD185144 followed by five template observations (which the pipeline will combine into a single template).  Five years later, another three RV observations were made.\n",
    "\n",
    "As with the data download, the further reduction steps in the pipeline can be quite lengthy (minutes to hours each), so rather than have the user monitor each one, we provide a scripting mechanism so complex reduction jobs can be submitted in on shot.\n",
    "\n",
    "In order to turn any of the RV observations into an RV value, we need the template.  So we will generate that first.  Since it is possible to repeat the template observations on more than one day, we need to explicitly state which object and which day.  The script command for this is:\n",
    "\n",
    "<pre>template HD185144 20091231</pre>\n",
    "\n",
    "To reduce an RV measurement, we have to refer to this template (the target name is enough) and specify which file to reduce.  For example:\n",
    "\n",
    "<pre>rv HD185144 r20091231.7</pre>\n",
    "\n",
    "Finally, once we have a set of RV measurements for an object, we a generate an RV curve (the pipeline finds all the appropriate RV measurements):\n",
    "\n",
    "<pre>rvcurve HD185144</pre>\n",
    "\n",
    "As long as we follow the general rules that we need a template before we can reduce an RV measurement and we need at least three RV measurements before we can generate an RV curve, we can otherwise scripte things in whatever order we wish (<i>e.g.</i> all the templates first).\n",
    "\n",
    "All of this is submitted to the pipeline as a text script:\n",
    "\n"
   ]
  },
  {
   "cell_type": "code",
   "execution_count": 2,
   "metadata": {
    "scrolled": true
   },
   "outputs": [
    {
     "ename": "JSONDecodeError",
     "evalue": "Expecting value: line 1 column 1 (char 0)",
     "output_type": "error",
     "traceback": [
      "\u001b[0;31m---------------------------------------------------------------------------\u001b[0m",
      "\u001b[0;31mJSONDecodeError\u001b[0m                           Traceback (most recent call last)",
      "\u001b[0;32m<ipython-input-2-ec26b6b6dcdd>\u001b[0m in \u001b[0;36m<module>\u001b[0;34m()\u001b[0m\n\u001b[1;32m     12\u001b[0m \u001b[0mrv\u001b[0m \u001b[0;36m185144\u001b[0m \u001b[0mr20150606\u001b[0m\u001b[0;36m.147\u001b[0m\u001b[0;34m\u001b[0m\u001b[0m\n\u001b[1;32m     13\u001b[0m \u001b[0mrvcurve\u001b[0m \u001b[0;36m185144\u001b[0m\u001b[0;34m\u001b[0m\u001b[0m\n\u001b[0;32m---> 14\u001b[0;31m \"\"\")\n\u001b[0m\u001b[1;32m     15\u001b[0m \u001b[0;34m\u001b[0m\u001b[0m\n\u001b[1;32m     16\u001b[0m \u001b[0mprint\u001b[0m\u001b[0;34m(\u001b[0m\u001b[0mrtn\u001b[0m\u001b[0;34m)\u001b[0m\u001b[0;34m\u001b[0m\u001b[0m\n",
      "\u001b[0;32m~/anaconda3/lib/python3.6/site-packages/hiresprv/idldriver.py\u001b[0m in \u001b[0;36mrun_script\u001b[0;34m(self, script)\u001b[0m\n\u001b[1;32m    132\u001b[0m             \u001b[0mlogging\u001b[0m\u001b[0;34m.\u001b[0m\u001b[0mdebug\u001b[0m\u001b[0;34m(\u001b[0m\u001b[0;34m'script= %s'\u001b[0m \u001b[0;34m%\u001b[0m \u001b[0mself\u001b[0m\u001b[0;34m.\u001b[0m\u001b[0mscript\u001b[0m\u001b[0;34m)\u001b[0m\u001b[0;34m\u001b[0m\u001b[0m\n\u001b[1;32m    133\u001b[0m \u001b[0;34m\u001b[0m\u001b[0m\n\u001b[0;32m--> 134\u001b[0;31m         \u001b[0mself\u001b[0m\u001b[0;34m.\u001b[0m\u001b[0m__submitScript\u001b[0m\u001b[0;34m(\u001b[0m\u001b[0;34m)\u001b[0m\u001b[0;34m\u001b[0m\u001b[0m\n\u001b[0m\u001b[1;32m    135\u001b[0m \u001b[0;34m\u001b[0m\u001b[0m\n\u001b[1;32m    136\u001b[0m         \u001b[0;32mif\u001b[0m \u001b[0mself\u001b[0m\u001b[0;34m.\u001b[0m\u001b[0mdebug\u001b[0m\u001b[0;34m:\u001b[0m\u001b[0;34m\u001b[0m\u001b[0m\n",
      "\u001b[0;32m~/anaconda3/lib/python3.6/site-packages/hiresprv/idldriver.py\u001b[0m in \u001b[0;36m__submitScript\u001b[0;34m(self)\u001b[0m\n\u001b[1;32m    217\u001b[0m             \u001b[0mlogging\u001b[0m\u001b[0;34m.\u001b[0m\u001b[0mdebug\u001b[0m\u001b[0;34m(\u001b[0m\u001b[0;34m'response: %s'\u001b[0m \u001b[0;34m%\u001b[0m \u001b[0mself\u001b[0m\u001b[0;34m.\u001b[0m\u001b[0mresponse\u001b[0m\u001b[0;34m.\u001b[0m\u001b[0mtext\u001b[0m\u001b[0;34m)\u001b[0m\u001b[0;34m\u001b[0m\u001b[0m\n\u001b[1;32m    218\u001b[0m \u001b[0;34m\u001b[0m\u001b[0m\n\u001b[0;32m--> 219\u001b[0;31m         \u001b[0mjsonstr\u001b[0m \u001b[0;34m=\u001b[0m \u001b[0mjson\u001b[0m\u001b[0;34m.\u001b[0m\u001b[0mloads\u001b[0m\u001b[0;34m(\u001b[0m\u001b[0mself\u001b[0m\u001b[0;34m.\u001b[0m\u001b[0mresponse\u001b[0m\u001b[0;34m.\u001b[0m\u001b[0mtext\u001b[0m\u001b[0;34m)\u001b[0m\u001b[0;34m\u001b[0m\u001b[0m\n\u001b[0m\u001b[1;32m    220\u001b[0m \u001b[0;34m\u001b[0m\u001b[0m\n\u001b[1;32m    221\u001b[0m         \u001b[0;32mif\u001b[0m \u001b[0mdebug\u001b[0m\u001b[0;34m:\u001b[0m\u001b[0;34m\u001b[0m\u001b[0m\n",
      "\u001b[0;32m~/anaconda3/lib/python3.6/json/__init__.py\u001b[0m in \u001b[0;36mloads\u001b[0;34m(s, encoding, cls, object_hook, parse_float, parse_int, parse_constant, object_pairs_hook, **kw)\u001b[0m\n\u001b[1;32m    352\u001b[0m             \u001b[0mparse_int\u001b[0m \u001b[0;32mis\u001b[0m \u001b[0;32mNone\u001b[0m \u001b[0;32mand\u001b[0m \u001b[0mparse_float\u001b[0m \u001b[0;32mis\u001b[0m \u001b[0;32mNone\u001b[0m \u001b[0;32mand\u001b[0m\u001b[0;34m\u001b[0m\u001b[0m\n\u001b[1;32m    353\u001b[0m             parse_constant is None and object_pairs_hook is None and not kw):\n\u001b[0;32m--> 354\u001b[0;31m         \u001b[0;32mreturn\u001b[0m \u001b[0m_default_decoder\u001b[0m\u001b[0;34m.\u001b[0m\u001b[0mdecode\u001b[0m\u001b[0;34m(\u001b[0m\u001b[0ms\u001b[0m\u001b[0;34m)\u001b[0m\u001b[0;34m\u001b[0m\u001b[0m\n\u001b[0m\u001b[1;32m    355\u001b[0m     \u001b[0;32mif\u001b[0m \u001b[0mcls\u001b[0m \u001b[0;32mis\u001b[0m \u001b[0;32mNone\u001b[0m\u001b[0;34m:\u001b[0m\u001b[0;34m\u001b[0m\u001b[0m\n\u001b[1;32m    356\u001b[0m         \u001b[0mcls\u001b[0m \u001b[0;34m=\u001b[0m \u001b[0mJSONDecoder\u001b[0m\u001b[0;34m\u001b[0m\u001b[0m\n",
      "\u001b[0;32m~/anaconda3/lib/python3.6/json/decoder.py\u001b[0m in \u001b[0;36mdecode\u001b[0;34m(self, s, _w)\u001b[0m\n\u001b[1;32m    337\u001b[0m \u001b[0;34m\u001b[0m\u001b[0m\n\u001b[1;32m    338\u001b[0m         \"\"\"\n\u001b[0;32m--> 339\u001b[0;31m         \u001b[0mobj\u001b[0m\u001b[0;34m,\u001b[0m \u001b[0mend\u001b[0m \u001b[0;34m=\u001b[0m \u001b[0mself\u001b[0m\u001b[0;34m.\u001b[0m\u001b[0mraw_decode\u001b[0m\u001b[0;34m(\u001b[0m\u001b[0ms\u001b[0m\u001b[0;34m,\u001b[0m \u001b[0midx\u001b[0m\u001b[0;34m=\u001b[0m\u001b[0m_w\u001b[0m\u001b[0;34m(\u001b[0m\u001b[0ms\u001b[0m\u001b[0;34m,\u001b[0m \u001b[0;36m0\u001b[0m\u001b[0;34m)\u001b[0m\u001b[0;34m.\u001b[0m\u001b[0mend\u001b[0m\u001b[0;34m(\u001b[0m\u001b[0;34m)\u001b[0m\u001b[0;34m)\u001b[0m\u001b[0;34m\u001b[0m\u001b[0m\n\u001b[0m\u001b[1;32m    340\u001b[0m         \u001b[0mend\u001b[0m \u001b[0;34m=\u001b[0m \u001b[0m_w\u001b[0m\u001b[0;34m(\u001b[0m\u001b[0ms\u001b[0m\u001b[0;34m,\u001b[0m \u001b[0mend\u001b[0m\u001b[0;34m)\u001b[0m\u001b[0;34m.\u001b[0m\u001b[0mend\u001b[0m\u001b[0;34m(\u001b[0m\u001b[0;34m)\u001b[0m\u001b[0;34m\u001b[0m\u001b[0m\n\u001b[1;32m    341\u001b[0m         \u001b[0;32mif\u001b[0m \u001b[0mend\u001b[0m \u001b[0;34m!=\u001b[0m \u001b[0mlen\u001b[0m\u001b[0;34m(\u001b[0m\u001b[0ms\u001b[0m\u001b[0;34m)\u001b[0m\u001b[0;34m:\u001b[0m\u001b[0;34m\u001b[0m\u001b[0m\n",
      "\u001b[0;32m~/anaconda3/lib/python3.6/json/decoder.py\u001b[0m in \u001b[0;36mraw_decode\u001b[0;34m(self, s, idx)\u001b[0m\n\u001b[1;32m    355\u001b[0m             \u001b[0mobj\u001b[0m\u001b[0;34m,\u001b[0m \u001b[0mend\u001b[0m \u001b[0;34m=\u001b[0m \u001b[0mself\u001b[0m\u001b[0;34m.\u001b[0m\u001b[0mscan_once\u001b[0m\u001b[0;34m(\u001b[0m\u001b[0ms\u001b[0m\u001b[0;34m,\u001b[0m \u001b[0midx\u001b[0m\u001b[0;34m)\u001b[0m\u001b[0;34m\u001b[0m\u001b[0m\n\u001b[1;32m    356\u001b[0m         \u001b[0;32mexcept\u001b[0m \u001b[0mStopIteration\u001b[0m \u001b[0;32mas\u001b[0m \u001b[0merr\u001b[0m\u001b[0;34m:\u001b[0m\u001b[0;34m\u001b[0m\u001b[0m\n\u001b[0;32m--> 357\u001b[0;31m             \u001b[0;32mraise\u001b[0m \u001b[0mJSONDecodeError\u001b[0m\u001b[0;34m(\u001b[0m\u001b[0;34m\"Expecting value\"\u001b[0m\u001b[0;34m,\u001b[0m \u001b[0ms\u001b[0m\u001b[0;34m,\u001b[0m \u001b[0merr\u001b[0m\u001b[0;34m.\u001b[0m\u001b[0mvalue\u001b[0m\u001b[0;34m)\u001b[0m \u001b[0;32mfrom\u001b[0m \u001b[0;32mNone\u001b[0m\u001b[0;34m\u001b[0m\u001b[0m\n\u001b[0m\u001b[1;32m    358\u001b[0m         \u001b[0;32mreturn\u001b[0m \u001b[0mobj\u001b[0m\u001b[0;34m,\u001b[0m \u001b[0mend\u001b[0m\u001b[0;34m\u001b[0m\u001b[0m\n",
      "\u001b[0;31mJSONDecodeError\u001b[0m: Expecting value: line 1 column 1 (char 0)"
     ]
    }
   ],
   "source": [
    "from hiresprv.idldriver import Idldriver\n",
    "\n",
    "idl = Idldriver('prv.cookies')\n",
    "\n",
    "rtn = idl.run_script(\"\"\"\n",
    "template 185144 20091231\n",
    "rv 185144 r20091231.72\n",
    "rv 185144 r20091231.73\n",
    "rv 185144 r20091231.74\n",
    "rv 185144 r20150606.145\n",
    "rv 185144 r20150606.146\n",
    "rv 185144 r20150606.147\n",
    "rvcurve 185144\n",
    "\"\"\")\n",
    "\n",
    "print(rtn)"
   ]
  },
  {
   "cell_type": "markdown",
   "metadata": {},
   "source": [
    "### Monitoring (again)\n",
    "\n",
    "To monitor the pipeline processing request, you can either insert another cell the runs the PRV Processing Monitor here or just go back to the previous cell and monitor from there."
   ]
  },
  {
   "cell_type": "markdown",
   "metadata": {},
   "source": [
    "### Workspace Directory Listing\n",
    "\n",
    "We can get a list of all the downloadable files in the workspace.  There are utility functions (below) for quickly downloading the final products but we often want to see the intermediate products to evaluate/diagnose the processing."
   ]
  },
  {
   "cell_type": "code",
   "execution_count": 8,
   "metadata": {
    "scrolled": false
   },
   "outputs": [
    {
     "name": "stdout",
     "output_type": "stream",
     "text": [
      "{'dnloadlod': ['dnloadlog/20130629.json', 'dnloadlog/20130912.json', 'dnloadlog/20150606.json', 'dnloadlog/20091231.json'], 'logsheets': ['logsheets/20130629.logsheet1', 'logsheets/20091231.logsheet1', 'logsheets/20130912.logsheet1', 'logsheets/20150606.logsheet1'], 'statuslog': ['statuslog/status.2018-12-14T14:50:45.txt', 'statuslog/status.2018-12-14T17:13:49.txt', 'statuslog/status.2018-12-14T14:27:49.txt', 'statuslog/status.2018-12-14T14:58:53.txt', 'statuslog/status.2018-12-14T15:12:48.txt'], 'idllog': ['idllog/idlDebug.2018-12-14T14:50:45.txt', 'idllog/idlDebug.2018-12-14T17:13:49.txt', 'idllog/idlDebug.2018-12-14T14:58:53.txt', 'idllog/idlDebug.2018-12-14T14:27:49.txt', 'idllog/idlDebug.2018-12-14T15:12:48.txt'], 'fits': ['fits/r20150606.4.fits', 'fits/r20130629.99.fits', 'fits/r20091231.154.fits', 'fits/r20150606.75.fits', 'fits/r20091231.85.fits', 'fits/r20091231.211.fits', 'fits/r20130912.157.fits', 'fits/r20130629.70.fits', 'fits/r20150606.128.fits', 'fits/r20150606.119.fits', 'fits/r20130912.166.fits', 'fits/r20091231.220.fits', 'fits/r20150606.152.fits', 'fits/r20130912.78.fits', 'fits/r20130629.8.fits', 'fits/r20130912.91.fits', 'fits/r20091231.165.fits', 'fits/r20130629.115.fits', 'fits/r20091231.8.fits', 'fits/r20091231.209.fits', 'fits/r20130912.104.fits', 'fits/r20150606.130.fits', 'fits/r20091231.242.fits', 'fits/r20091231.74.fits', 'fits/r20150606.84.fits', 'fits/r20091231.107.fits', 'fits/r20130629.81.fits', 'fits/r20130912.89.fits', 'fits/r20091231.136.fits', 'fits/r20091231.273.fits', 'fits/r20150606.101.fits', 'fits/r20130629.12.fits', 'fits/r20130912.135.fits', 'fits/r20091231.238.fits', 'fits/r20091231.194.fits', 'fits/r20091231.188.fits', 'fits/r20130912.162.fits', 'fits/r20150606.156.fits', 'fits/r20091231.224.fits', 'fits/r20130912.129.fits', 'fits/r20091231.286.fits', 'fits/r20130629.111.fits', 'fits/r20091231.161.fits', 'fits/r20130912.95.fits', 'fits/r20091231.150.fits', 'fits/r20130629.120.fits', 'fits/r20150606.98.fits', 'fits/r20091231.68.fits', 'fits/r20091231.81.fits', 'fits/r20150606.71.fits', 'fits/r20130912.118.fits', 'fits/r20091231.215.fits', 'fits/r20130629.74.fits', 'fits/r20130912.153.fits', 'fits/r20091231.132.fits', 'fits/r20130629.109.fits', 'fits/r20091231.179.fits', 'fits/r20091231.190.fits', 'fits/r20150606.105.fits', 'fits/r20091231.277.fits', 'fits/r20130912.131.fits', 'fits/r20130629.16.fits', 'fits/r20130912.100.fits', 'fits/r20091231.246.fits', 'fits/r20150606.134.fits', 'fits/r20091231.99.fits', 'fits/r20150606.69.fits', 'fits/r20150606.80.fits', 'fits/r20091231.70.fits', 'fits/r20091231.148.fits', 'fits/r20130629.85.fits', 'fits/r20091231.103.fits', 'fits/r20091231.95.fits', 'fits/r20150606.65.fits', 'fits/r20150606.138.fits', 'fits/r20091231.201.fits', 'fits/r20130912.147.fits', 'fits/r20091231.144.fits', 'fits/r20130629.89.fits', 'fits/r20130912.2.fits', 'fits/r20130629.105.fits', 'fits/r20091231.175.fits', 'fits/r20130912.81.fits', 'fits/r20130912.68.fits', 'fits/r20130912.176.fits', 'fits/r20091231.230.fits', 'fits/r20150606.142.fits', 'fits/r20150606.109.fits', 'fits/r20150606.94.fits', 'fits/r20130629.91.fits', 'fits/r20091231.117.fits', 'fits/r20130912.114.fits', 'fits/r20150606.120.fits', 'fits/r20091231.252.fits', 'fits/r20130629.78.fits', 'fits/r20091231.219.fits', 'fits/r20091231.184.fits', 'fits/r20091231.228.fits', 'fits/r20130912.70.fits', 'fits/r20091231.263.fits', 'fits/r20150606.111.fits', 'fits/r20130912.125.fits', 'fits/r20091231.126.fits', 'fits/r20130912.99.fits', 'fits/r20130912.85.fits', 'fits/r20091231.171.fits', 'fits/r20130629.101.fits', 'fits/r20130912.139.fits', 'fits/r20130912.172.fits', 'fits/r20150606.146.fits', 'fits/r20091231.234.fits', 'fits/r20091231.198.fits', 'fits/r20150606.61.fits', 'fits/r20091231.91.fits', 'fits/r20091231.205.fits', 'fits/r20130912.143.fits', 'fits/r20130912.108.fits', 'fits/r20130912.6.fits', 'fits/r20091231.140.fits', 'fits/r20091231.78.fits', 'fits/r20150606.88.fits', 'fits/r20150606.115.fits', 'fits/r20091231.267.fits', 'fits/r20130912.121.fits', 'fits/r20130912.74.fits', 'fits/r20091231.180.fits', 'fits/r20091231.4.fits', 'fits/r20091231.169.fits', 'fits/r20130629.4.fits', 'fits/r20130629.119.fits', 'fits/r20091231.122.fits', 'fits/r20150606.90.fits', 'fits/r20091231.113.fits', 'fits/r20130629.95.fits', 'fits/r20091231.158.fits', 'fits/r20150606.8.fits', 'fits/r20130912.110.fits', 'fits/r20091231.256.fits', 'fits/r20150606.124.fits', 'fits/r20150606.79.fits', 'fits/r20091231.89.fits', 'fits/r20091231.200.fits', 'fits/r20130912.146.fits', 'fits/r20150606.139.fits', 'fits/r20150606.64.fits', 'fits/r20091231.94.fits', 'fits/r20130912.3.fits', 'fits/r20091231.145.fits', 'fits/r20130629.88.fits', 'fits/r20091231.174.fits', 'fits/r20130912.80.fits', 'fits/r20130629.104.fits', 'fits/r20150606.108.fits', 'fits/r20130912.69.fits', 'fits/r20150606.143.fits', 'fits/r20091231.231.fits', 'fits/r20091231.116.fits', 'fits/r20130629.90.fits', 'fits/r20150606.95.fits', 'fits/r20130629.79.fits', 'fits/r20091231.218.fits', 'fits/r20130912.115.fits', 'fits/r20091231.253.fits', 'fits/r20150606.121.fits', 'fits/r20150606.110.fits', 'fits/r20091231.262.fits', 'fits/r20130912.124.fits', 'fits/r20091231.185.fits', 'fits/r20091231.229.fits', 'fits/r20130912.71.fits', 'fits/r20130912.98.fits', 'fits/r20130629.1.fits', 'fits/r20091231.127.fits', 'fits/r20091231.1.fits', 'fits/r20130629.100.fits', 'fits/r20130912.84.fits', 'fits/r20091231.170.fits', 'fits/r20130912.173.fits', 'fits/r20091231.235.fits', 'fits/r20150606.147.fits', 'fits/r20091231.199.fits', 'fits/r20130912.138.fits', 'fits/r20130912.109.fits', 'fits/r20091231.204.fits', 'fits/r20130912.142.fits', 'fits/r20091231.90.fits', 'fits/r20150606.89.fits', 'fits/r20091231.79.fits', 'fits/r20091231.141.fits', 'fits/r20130912.7.fits', 'fits/r20130912.75.fits', 'fits/r20091231.181.fits', 'fits/r20091231.266.fits', 'fits/r20150606.114.fits', 'fits/r20130912.120.fits', 'fits/r20130629.118.fits', 'fits/r20091231.123.fits', 'fits/r20091231.168.fits', 'fits/r20130629.5.fits', 'fits/r20091231.5.fits', 'fits/r20130629.94.fits', 'fits/r20091231.159.fits', 'fits/r20150606.9.fits', 'fits/r20091231.112.fits', 'fits/r20150606.91.fits', 'fits/r20091231.88.fits', 'fits/r20150606.78.fits', 'fits/r20130912.111.fits', 'fits/r20150606.125.fits', 'fits/r20091231.257.fits', 'fits/r20150606.5.fits', 'fits/r20130629.98.fits', 'fits/r20091231.155.fits', 'fits/r20150606.129.fits', 'fits/r20091231.210.fits', 'fits/r20150606.162.fits', 'fits/r20130912.156.fits', 'fits/r20130629.71.fits', 'fits/r20091231.84.fits', 'fits/r20150606.74.fits', 'fits/r20130912.167.fits', 'fits/r20150606.153.fits', 'fits/r20091231.221.fits', 'fits/r20130912.79.fits', 'fits/r20150606.118.fits', 'fits/r20091231.9.fits', 'fits/r20091231.283.fits', 'fits/r20130629.114.fits', 'fits/r20130629.9.fits', 'fits/r20130912.90.fits', 'fits/r20091231.164.fits', 'fits/r20130912.105.fits', 'fits/r20091231.243.fits', 'fits/r20150606.131.fits', 'fits/r20091231.208.fits', 'fits/r20130629.80.fits', 'fits/r20091231.106.fits', 'fits/r20150606.85.fits', 'fits/r20091231.75.fits', 'fits/r20091231.137.fits', 'fits/r20130912.88.fits', 'fits/r20091231.239.fits', 'fits/r20091231.195.fits', 'fits/r20150606.100.fits', 'fits/r20091231.272.fits', 'fits/r20130629.13.fits', 'fits/r20130912.134.fits', 'fits/r20130912.128.fits', 'fits/r20091231.189.fits', 'fits/r20130912.163.fits', 'fits/r20091231.225.fits', 'fits/r20150606.157.fits', 'fits/r20091231.160.fits', 'fits/r20130912.94.fits', 'fits/r20091231.287.fits', 'fits/r20130629.110.fits', 'fits/r20091231.69.fits', 'fits/r20150606.99.fits', 'fits/r20091231.151.fits', 'fits/r20150606.1.fits', 'fits/r20150606.166.fits', 'fits/r20091231.214.fits', 'fits/r20130629.75.fits', 'fits/r20130912.152.fits', 'fits/r20130912.119.fits', 'fits/r20150606.70.fits', 'fits/r20091231.80.fits', 'fits/r20091231.178.fits', 'fits/r20091231.133.fits', 'fits/r20130629.108.fits', 'fits/r20091231.276.fits', 'fits/r20150606.104.fits', 'fits/r20130912.130.fits', 'fits/r20130629.17.fits', 'fits/r20091231.191.fits', 'fits/r20150606.68.fits', 'fits/r20091231.98.fits', 'fits/r20130912.101.fits', 'fits/r20150606.135.fits', 'fits/r20091231.247.fits', 'fits/r20091231.102.fits', 'fits/r20091231.149.fits', 'fits/r20130629.84.fits', 'fits/r20091231.71.fits', 'fits/r20150606.81.fits', 'fits/r20130912.1.fits', 'fits/r20091231.147.fits', 'fits/r20150606.66.fits', 'fits/r20091231.96.fits', 'fits/r20091231.202.fits', 'fits/r20130912.144.fits', 'fits/r20130912.11.fits', 'fits/r20091231.249.fits', 'fits/r20130629.19.fits', 'fits/r20091231.278.fits', 'fits/r20091231.233.fits', 'fits/r20150606.141.fits', 'fits/r20091231.176.fits', 'fits/r20130912.82.fits', 'fits/r20130629.106.fits', 'fits/r20130912.117.fits', 'fits/r20150606.123.fits', 'fits/r20091231.251.fits', 'fits/r20091231.67.fits', 'fits/r20150606.97.fits', 'fits/r20091231.114.fits', 'fits/r20130629.92.fits', 'fits/r20091231.3.fits', 'fits/r20130629.3.fits', 'fits/r20091231.125.fits', 'fits/r20091231.260.fits', 'fits/r20150606.112.fits', 'fits/r20130912.126.fits', 'fits/r20091231.187.fits', 'fits/r20150606.159.fits', 'fits/r20130912.73.fits', 'fits/r20130912.171.fits', 'fits/r20150606.145.fits', 'fits/r20091231.237.fits', 'fits/r20130629.102.fits', 'fits/r20091231.139.fits', 'fits/r20130912.86.fits', 'fits/r20091231.172.fits', 'fits/r20091231.143.fits', 'fits/r20130912.5.fits', 'fits/r20091231.108.fits', 'fits/r20091231.92.fits', 'fits/r20150606.62.fits', 'fits/r20130912.15.fits', 'fits/r20091231.206.fits', 'fits/r20130912.140.fits', 'fits/r20091231.7.fits', 'fits/r20091231.121.fits', 'fits/r20130629.7.fits', 'fits/r20130912.77.fits', 'fits/r20091231.183.fits', 'fits/r20130912.169.fits', 'fits/r20150606.116.fits', 'fits/r20091231.264.fits', 'fits/r20130912.122.fits', 'fits/r20130912.113.fits', 'fits/r20091231.255.fits', 'fits/r20150606.127.fits', 'fits/r20130912.158.fits', 'fits/r20150606.93.fits', 'fits/r20130629.96.fits', 'fits/r20091231.110.fits', 'fits/r20091231.86.fits', 'fits/r20150606.76.fits', 'fits/r20091231.259.fits', 'fits/r20150606.160.fits', 'fits/r20091231.212.fits', 'fits/r20130629.73.fits', 'fits/r20130912.154.fits', 'fits/r20150606.7.fits', 'fits/r20091231.157.fits', 'fits/r20130629.116.fits', 'fits/r20130912.92.fits', 'fits/r20091231.166.fits', 'fits/r20130912.165.fits', 'fits/r20091231.223.fits', 'fits/r20150606.151.fits', 'fits/r20091231.268.fits', 'fits/r20150606.87.fits', 'fits/r20091231.77.fits', 'fits/r20130629.82.fits', 'fits/r20130912.9.fits', 'fits/r20091231.104.fits', 'fits/r20130912.107.fits', 'fits/r20150606.133.fits', 'fits/r20091231.241.fits', 'fits/r20150606.149.fits', 'fits/r20091231.197.fits', 'fits/r20091231.270.fits', 'fits/r20150606.102.fits', 'fits/r20130912.136.fits', 'fits/r20130629.11.fits', 'fits/r20091231.135.fits', 'fits/r20091231.162.fits', 'fits/r20130912.96.fits', 'fits/r20091231.285.fits', 'fits/r20091231.129.fits', 'fits/r20130629.112.fits', 'fits/r20091231.11.fits', 'fits/r20130912.161.fits', 'fits/r20150606.155.fits', 'fits/r20091231.227.fits', 'fits/r20150606.72.fits', 'fits/r20091231.82.fits', 'fits/r20091231.216.fits', 'fits/r20150606.164.fits', 'fits/r20130912.150.fits', 'fits/r20130629.77.fits', 'fits/r20091231.118.fits', 'fits/r20091231.153.fits', 'fits/r20150606.3.fits', 'fits/r20150606.106.fits', 'fits/r20091231.274.fits', 'fits/r20130629.15.fits', 'fits/r20130912.132.fits', 'fits/r20091231.193.fits', 'fits/r20130912.67.fits', 'fits/r20150606.10.fits', 'fits/r20091231.131.fits', 'fits/r20091231.73.fits', 'fits/r20150606.83.fits', 'fits/r20091231.100.fits', 'fits/r20130629.86.fits', 'fits/r20130912.148.fits', 'fits/r20130912.103.fits', 'fits/r20091231.245.fits', 'fits/r20150606.137.fits', 'fits/r20091231.213.fits', 'fits/r20150606.161.fits', 'fits/r20130629.72.fits', 'fits/r20130912.155.fits', 'fits/r20091231.258.fits', 'fits/r20150606.77.fits', 'fits/r20091231.87.fits', 'fits/r20150606.6.fits', 'fits/r20091231.156.fits', 'fits/r20130912.93.fits', 'fits/r20091231.167.fits', 'fits/r20130629.117.fits', 'fits/r20091231.269.fits', 'fits/r20130912.164.fits', 'fits/r20150606.150.fits', 'fits/r20091231.222.fits', 'fits/r20130912.8.fits', 'fits/r20091231.105.fits', 'fits/r20130629.83.fits', 'fits/r20091231.76.fits', 'fits/r20150606.86.fits', 'fits/r20130912.106.fits', 'fits/r20091231.240.fits', 'fits/r20150606.132.fits', 'fits/r20150606.103.fits', 'fits/r20091231.271.fits', 'fits/r20130912.137.fits', 'fits/r20130629.10.fits', 'fits/r20150606.148.fits', 'fits/r20091231.196.fits', 'fits/r20091231.134.fits', 'fits/r20091231.10.fits', 'fits/r20091231.284.fits', 'fits/r20091231.128.fits', 'fits/r20130629.113.fits', 'fits/r20091231.163.fits', 'fits/r20130912.97.fits', 'fits/r20130912.160.fits', 'fits/r20091231.226.fits', 'fits/r20150606.154.fits', 'fits/r20150606.165.fits', 'fits/r20091231.217.fits', 'fits/r20130912.151.fits', 'fits/r20130629.76.fits', 'fits/r20091231.83.fits', 'fits/r20150606.73.fits', 'fits/r20091231.152.fits', 'fits/r20150606.2.fits', 'fits/r20091231.119.fits', 'fits/r20091231.192.fits', 'fits/r20130912.66.fits', 'fits/r20091231.275.fits', 'fits/r20150606.107.fits', 'fits/r20130629.14.fits', 'fits/r20130912.133.fits', 'fits/r20091231.130.fits', 'fits/r20130629.87.fits', 'fits/r20091231.101.fits', 'fits/r20150606.82.fits', 'fits/r20091231.72.fits', 'fits/r20130912.102.fits', 'fits/r20150606.136.fits', 'fits/r20091231.244.fits', 'fits/r20130912.149.fits', 'fits/r20091231.146.fits', 'fits/r20130912.10.fits', 'fits/r20091231.248.fits', 'fits/r20091231.203.fits', 'fits/r20130912.145.fits', 'fits/r20091231.97.fits', 'fits/r20150606.67.fits', 'fits/r20130912.174.fits', 'fits/r20150606.140.fits', 'fits/r20091231.232.fits', 'fits/r20130629.18.fits', 'fits/r20130629.107.fits', 'fits/r20091231.177.fits', 'fits/r20130912.83.fits', 'fits/r20130912.116.fits', 'fits/r20091231.250.fits', 'fits/r20150606.122.fits', 'fits/r20130629.93.fits', 'fits/r20091231.115.fits', 'fits/r20150606.96.fits', 'fits/r20091231.66.fits', 'fits/r20091231.288.fits', 'fits/r20091231.124.fits', 'fits/r20130629.2.fits', 'fits/r20091231.2.fits', 'fits/r20091231.186.fits', 'fits/r20150606.158.fits', 'fits/r20130912.72.fits', 'fits/r20150606.113.fits', 'fits/r20091231.261.fits', 'fits/r20130912.127.fits', 'fits/r20130912.170.fits', 'fits/r20091231.236.fits', 'fits/r20150606.144.fits', 'fits/r20130912.87.fits', 'fits/r20091231.173.fits', 'fits/r20130629.103.fits', 'fits/r20091231.138.fits', 'fits/r20130912.4.fits', 'fits/r20091231.109.fits', 'fits/r20091231.142.fits', 'fits/r20091231.207.fits', 'fits/r20130912.141.fits', 'fits/r20130912.14.fits', 'fits/r20150606.63.fits', 'fits/r20091231.93.fits', 'fits/r20130629.6.fits', 'fits/r20091231.120.fits', 'fits/r20091231.6.fits', 'fits/r20091231.265.fits', 'fits/r20150606.117.fits', 'fits/r20130912.123.fits', 'fits/r20130912.76.fits', 'fits/r20091231.182.fits', 'fits/r20130912.168.fits', 'fits/r20130912.159.fits', 'fits/r20130912.112.fits', 'fits/r20150606.126.fits', 'fits/r20091231.254.fits', 'fits/r20091231.111.fits', 'fits/r20130629.97.fits', 'fits/r20150606.92.fits'], 'deblazed': ['deblazed/r20130629.76.fits', 'deblazed/r20091231.138.fits', 'deblazed/r20130629.103.fits', 'deblazed/r20091231.173.fits', 'deblazed/r20150606.73.fits', 'deblazed/r20091231.83.fits', 'deblazed/r20130912.170.fits', 'deblazed/r20091231.236.fits', 'deblazed/r20150606.144.fits', 'deblazed/r20091231.10.fits', 'deblazed/r20130912.97.fits', 'deblazed/r20091231.207.fits', 'deblazed/r20130912.141.fits', 'deblazed/r20091231.142.fits', 'deblazed/r20091231.109.fits', 'deblazed/r20091231.182.fits', 'deblazed/r20130912.168.fits', 'deblazed/r20091231.265.fits', 'deblazed/r20150606.117.fits', 'deblazed/r20130912.123.fits', 'deblazed/r20130629.87.fits', 'deblazed/r20130912.2.fits', 'deblazed/r20091231.72.fits', 'deblazed/r20150606.82.fits', 'deblazed/r20091231.120.fits', 'deblazed/r20130629.14.fits', 'deblazed/r20091231.111.fits', 'deblazed/r20130912.66.fits', 'deblazed/r20130912.112.fits', 'deblazed/r20150606.126.fits', 'deblazed/r20091231.254.fits', 'deblazed/r20130912.159.fits', 'deblazed/r20130629.4.fits', 'deblazed/r20091231.203.fits', 'deblazed/r20130912.145.fits', 'deblazed/r20130912.93.fits', 'deblazed/r20091231.248.fits', 'deblazed/r20091231.4.fits', 'deblazed/r20091231.146.fits', 'deblazed/r20091231.177.fits', 'deblazed/r20130629.72.fits', 'deblazed/r20130629.107.fits', 'deblazed/r20091231.87.fits', 'deblazed/r20150606.77.fits', 'deblazed/r20150606.8.fits', 'deblazed/r20130912.174.fits', 'deblazed/r20150606.140.fits', 'deblazed/r20091231.232.fits', 'deblazed/r20091231.115.fits', 'deblazed/r20130629.10.fits', 'deblazed/r20130912.116.fits', 'deblazed/r20091231.250.fits', 'deblazed/r20150606.122.fits', 'deblazed/r20150606.113.fits', 'deblazed/r20091231.261.fits', 'deblazed/r20130912.127.fits', 'deblazed/r20130629.83.fits', 'deblazed/r20091231.186.fits', 'deblazed/r20150606.158.fits', 'deblazed/r20150606.86.fits', 'deblazed/r20091231.76.fits', 'deblazed/r20130912.6.fits', 'deblazed/r20091231.288.fits', 'deblazed/r20091231.124.fits', 'deblazed/r20130912.160.fits', 'deblazed/r20091231.226.fits', 'deblazed/r20150606.154.fits', 'deblazed/r20091231.163.fits', 'deblazed/r20130912.14.fits', 'deblazed/r20091231.284.fits', 'deblazed/r20130629.113.fits', 'deblazed/r20091231.128.fits', 'deblazed/r20091231.93.fits', 'deblazed/r20150606.63.fits', 'deblazed/r20091231.119.fits', 'deblazed/r20091231.152.fits', 'deblazed/r20150606.165.fits', 'deblazed/r20091231.217.fits', 'deblazed/r20130912.151.fits', 'deblazed/r20130912.87.fits', 'deblazed/r20091231.130.fits', 'deblazed/r20130629.97.fits', 'deblazed/r20091231.275.fits', 'deblazed/r20150606.107.fits', 'deblazed/r20130912.133.fits', 'deblazed/r20091231.192.fits', 'deblazed/r20150606.92.fits', 'deblazed/r20150606.4.fits', 'deblazed/r20130912.149.fits', 'deblazed/r20130912.102.fits', 'deblazed/r20091231.8.fits', 'deblazed/r20150606.136.fits', 'deblazed/r20091231.244.fits', 'deblazed/r20130629.8.fits', 'deblazed/r20130912.76.fits', 'deblazed/r20091231.101.fits', 'deblazed/r20091231.156.fits', 'deblazed/r20130629.18.fits', 'deblazed/r20091231.258.fits', 'deblazed/r20130912.83.fits', 'deblazed/r20091231.213.fits', 'deblazed/r20150606.161.fits', 'deblazed/r20130912.155.fits', 'deblazed/r20130912.164.fits', 'deblazed/r20150606.150.fits', 'deblazed/r20091231.222.fits', 'deblazed/r20091231.269.fits', 'deblazed/r20130629.117.fits', 'deblazed/r20130912.10.fits', 'deblazed/r20091231.167.fits', 'deblazed/r20150606.67.fits', 'deblazed/r20091231.97.fits', 'deblazed/r20130912.106.fits', 'deblazed/r20091231.240.fits', 'deblazed/r20150606.132.fits', 'deblazed/r20091231.105.fits', 'deblazed/r20130912.72.fits', 'deblazed/r20091231.134.fits', 'deblazed/r20150606.148.fits', 'deblazed/r20091231.196.fits', 'deblazed/r20130629.93.fits', 'deblazed/r20150606.103.fits', 'deblazed/r20091231.271.fits', 'deblazed/r20130912.137.fits', 'deblazed/r20091231.66.fits', 'deblazed/r20150606.96.fits', 'deblazed/r20130912.161.fits', 'deblazed/r20150606.155.fits', 'deblazed/r20091231.227.fits', 'deblazed/r20150606.62.fits', 'deblazed/r20091231.92.fits', 'deblazed/r20091231.285.fits', 'deblazed/r20130629.112.fits', 'deblazed/r20091231.129.fits', 'deblazed/r20091231.162.fits', 'deblazed/r20130912.15.fits', 'deblazed/r20091231.153.fits', 'deblazed/r20091231.118.fits', 'deblazed/r20130912.86.fits', 'deblazed/r20091231.216.fits', 'deblazed/r20150606.164.fits', 'deblazed/r20130912.150.fits', 'deblazed/r20091231.131.fits', 'deblazed/r20150606.93.fits', 'deblazed/r20150606.5.fits', 'deblazed/r20091231.193.fits', 'deblazed/r20130629.96.fits', 'deblazed/r20150606.106.fits', 'deblazed/r20091231.274.fits', 'deblazed/r20130912.132.fits', 'deblazed/r20130629.9.fits', 'deblazed/r20130912.103.fits', 'deblazed/r20091231.9.fits', 'deblazed/r20091231.245.fits', 'deblazed/r20150606.137.fits', 'deblazed/r20130912.148.fits', 'deblazed/r20130912.77.fits', 'deblazed/r20091231.100.fits', 'deblazed/r20091231.157.fits', 'deblazed/r20130629.19.fits', 'deblazed/r20150606.160.fits', 'deblazed/r20091231.212.fits', 'deblazed/r20130912.154.fits', 'deblazed/r20091231.259.fits', 'deblazed/r20130912.82.fits', 'deblazed/r20091231.268.fits', 'deblazed/r20130912.165.fits', 'deblazed/r20091231.223.fits', 'deblazed/r20150606.151.fits', 'deblazed/r20091231.96.fits', 'deblazed/r20150606.66.fits', 'deblazed/r20130912.11.fits', 'deblazed/r20091231.166.fits', 'deblazed/r20130629.116.fits', 'deblazed/r20130912.107.fits', 'deblazed/r20150606.133.fits', 'deblazed/r20091231.241.fits', 'deblazed/r20091231.104.fits', 'deblazed/r20130912.73.fits', 'deblazed/r20091231.135.fits', 'deblazed/r20150606.97.fits', 'deblazed/r20150606.1.fits', 'deblazed/r20091231.67.fits', 'deblazed/r20130629.92.fits', 'deblazed/r20091231.270.fits', 'deblazed/r20150606.102.fits', 'deblazed/r20130912.136.fits', 'deblazed/r20150606.149.fits', 'deblazed/r20091231.197.fits', 'deblazed/r20091231.82.fits', 'deblazed/r20150606.72.fits', 'deblazed/r20091231.172.fits', 'deblazed/r20130629.77.fits', 'deblazed/r20091231.139.fits', 'deblazed/r20130629.102.fits', 'deblazed/r20130912.171.fits', 'deblazed/r20150606.145.fits', 'deblazed/r20091231.237.fits', 'deblazed/r20091231.206.fits', 'deblazed/r20130912.140.fits', 'deblazed/r20091231.1.fits', 'deblazed/r20130912.96.fits', 'deblazed/r20130629.1.fits', 'deblazed/r20091231.11.fits', 'deblazed/r20091231.108.fits', 'deblazed/r20091231.143.fits', 'deblazed/r20150606.83.fits', 'deblazed/r20130912.3.fits', 'deblazed/r20091231.73.fits', 'deblazed/r20150606.116.fits', 'deblazed/r20091231.264.fits', 'deblazed/r20130912.122.fits', 'deblazed/r20130629.86.fits', 'deblazed/r20091231.183.fits', 'deblazed/r20130912.169.fits', 'deblazed/r20091231.121.fits', 'deblazed/r20091231.110.fits', 'deblazed/r20130912.67.fits', 'deblazed/r20130629.15.fits', 'deblazed/r20150606.10.fits', 'deblazed/r20130912.158.fits', 'deblazed/r20130912.113.fits', 'deblazed/r20091231.255.fits', 'deblazed/r20150606.127.fits', 'deblazed/r20130912.92.fits', 'deblazed/r20091231.249.fits', 'deblazed/r20091231.5.fits', 'deblazed/r20091231.202.fits', 'deblazed/r20130912.144.fits', 'deblazed/r20130629.5.fits', 'deblazed/r20091231.147.fits', 'deblazed/r20150606.76.fits', 'deblazed/r20091231.86.fits', 'deblazed/r20130629.73.fits', 'deblazed/r20130629.106.fits', 'deblazed/r20091231.176.fits', 'deblazed/r20091231.233.fits', 'deblazed/r20150606.141.fits', 'deblazed/r20091231.278.fits', 'deblazed/r20150606.9.fits', 'deblazed/r20130629.11.fits', 'deblazed/r20091231.114.fits', 'deblazed/r20130912.117.fits', 'deblazed/r20150606.123.fits', 'deblazed/r20091231.251.fits', 'deblazed/r20091231.77.fits', 'deblazed/r20130912.7.fits', 'deblazed/r20150606.87.fits', 'deblazed/r20091231.187.fits', 'deblazed/r20150606.159.fits', 'deblazed/r20091231.260.fits', 'deblazed/r20150606.112.fits', 'deblazed/r20130912.126.fits', 'deblazed/r20130629.82.fits', 'deblazed/r20091231.125.fits', 'deblazed/r20091231.287.fits', 'deblazed/r20130629.110.fits', 'deblazed/r20091231.160.fits', 'deblazed/r20091231.90.fits', 'deblazed/r20130912.9.fits', 'deblazed/r20091231.79.fits', 'deblazed/r20150606.89.fits', 'deblazed/r20091231.189.fits', 'deblazed/r20130912.163.fits', 'deblazed/r20091231.225.fits', 'deblazed/r20150606.157.fits', 'deblazed/r20130912.128.fits', 'deblazed/r20130912.84.fits', 'deblazed/r20130912.119.fits', 'deblazed/r20150606.166.fits', 'deblazed/r20091231.214.fits', 'deblazed/r20130912.152.fits', 'deblazed/r20091231.151.fits', 'deblazed/r20091231.191.fits', 'deblazed/r20130629.94.fits', 'deblazed/r20091231.276.fits', 'deblazed/r20150606.104.fits', 'deblazed/r20130912.130.fits', 'deblazed/r20150606.91.fits', 'deblazed/r20150606.7.fits', 'deblazed/r20150606.78.fits', 'deblazed/r20091231.88.fits', 'deblazed/r20130629.108.fits', 'deblazed/r20091231.133.fits', 'deblazed/r20091231.178.fits', 'deblazed/r20091231.149.fits', 'deblazed/r20130912.75.fits', 'deblazed/r20091231.102.fits', 'deblazed/r20130912.101.fits', 'deblazed/r20150606.135.fits', 'deblazed/r20091231.247.fits', 'deblazed/r20091231.210.fits', 'deblazed/r20150606.162.fits', 'deblazed/r20130912.156.fits', 'deblazed/r20150606.129.fits', 'deblazed/r20130912.80.fits', 'deblazed/r20130912.69.fits', 'deblazed/r20091231.155.fits', 'deblazed/r20091231.164.fits', 'deblazed/r20091231.283.fits', 'deblazed/r20130629.114.fits', 'deblazed/r20091231.94.fits', 'deblazed/r20150606.64.fits', 'deblazed/r20150606.118.fits', 'deblazed/r20130629.88.fits', 'deblazed/r20130912.167.fits', 'deblazed/r20150606.153.fits', 'deblazed/r20091231.221.fits', 'deblazed/r20091231.106.fits', 'deblazed/r20130912.71.fits', 'deblazed/r20091231.208.fits', 'deblazed/r20130912.98.fits', 'deblazed/r20130912.105.fits', 'deblazed/r20091231.243.fits', 'deblazed/r20150606.131.fits', 'deblazed/r20130629.90.fits', 'deblazed/r20150606.100.fits', 'deblazed/r20091231.272.fits', 'deblazed/r20130912.134.fits', 'deblazed/r20091231.239.fits', 'deblazed/r20091231.195.fits', 'deblazed/r20150606.95.fits', 'deblazed/r20150606.3.fits', 'deblazed/r20091231.137.fits', 'deblazed/r20130629.79.fits', 'deblazed/r20150606.99.fits', 'deblazed/r20091231.69.fits', 'deblazed/r20130912.138.fits', 'deblazed/r20130912.173.fits', 'deblazed/r20091231.235.fits', 'deblazed/r20150606.147.fits', 'deblazed/r20091231.199.fits', 'deblazed/r20091231.170.fits', 'deblazed/r20130629.75.fits', 'deblazed/r20130629.100.fits', 'deblazed/r20091231.80.fits', 'deblazed/r20150606.70.fits', 'deblazed/r20091231.141.fits', 'deblazed/r20130629.3.fits', 'deblazed/r20091231.204.fits', 'deblazed/r20130912.142.fits', 'deblazed/r20091231.3.fits', 'deblazed/r20130912.109.fits', 'deblazed/r20130912.94.fits', 'deblazed/r20091231.98.fits', 'deblazed/r20150606.68.fits', 'deblazed/r20091231.168.fits', 'deblazed/r20091231.123.fits', 'deblazed/r20130629.118.fits', 'deblazed/r20091231.266.fits', 'deblazed/r20150606.114.fits', 'deblazed/r20130912.120.fits', 'deblazed/r20130629.84.fits', 'deblazed/r20091231.181.fits', 'deblazed/r20150606.81.fits', 'deblazed/r20130912.1.fits', 'deblazed/r20091231.71.fits', 'deblazed/r20130912.111.fits', 'deblazed/r20150606.125.fits', 'deblazed/r20091231.257.fits', 'deblazed/r20091231.112.fits', 'deblazed/r20130629.17.fits', 'deblazed/r20091231.159.fits', 'deblazed/r20091231.145.fits', 'deblazed/r20130912.79.fits', 'deblazed/r20130629.7.fits', 'deblazed/r20130912.90.fits', 'deblazed/r20150606.139.fits', 'deblazed/r20091231.7.fits', 'deblazed/r20091231.200.fits', 'deblazed/r20130912.146.fits', 'deblazed/r20150606.143.fits', 'deblazed/r20091231.231.fits', 'deblazed/r20130629.98.fits', 'deblazed/r20150606.108.fits', 'deblazed/r20130629.71.fits', 'deblazed/r20130629.104.fits', 'deblazed/r20091231.174.fits', 'deblazed/r20150606.74.fits', 'deblazed/r20091231.84.fits', 'deblazed/r20130912.115.fits', 'deblazed/r20091231.253.fits', 'deblazed/r20150606.121.fits', 'deblazed/r20130912.88.fits', 'deblazed/r20091231.218.fits', 'deblazed/r20130629.13.fits', 'deblazed/r20091231.116.fits', 'deblazed/r20091231.127.fits', 'deblazed/r20091231.185.fits', 'deblazed/r20091231.229.fits', 'deblazed/r20150606.110.fits', 'deblazed/r20091231.262.fits', 'deblazed/r20130912.124.fits', 'deblazed/r20130629.80.fits', 'deblazed/r20091231.75.fits', 'deblazed/r20130912.5.fits', 'deblazed/r20150606.85.fits', 'deblazed/r20130912.172.fits', 'deblazed/r20150606.146.fits', 'deblazed/r20091231.234.fits', 'deblazed/r20091231.198.fits', 'deblazed/r20130912.139.fits', 'deblazed/r20091231.68.fits', 'deblazed/r20150606.98.fits', 'deblazed/r20150606.71.fits', 'deblazed/r20091231.81.fits', 'deblazed/r20130629.74.fits', 'deblazed/r20130629.101.fits', 'deblazed/r20091231.171.fits', 'deblazed/r20091231.140.fits', 'deblazed/r20091231.2.fits', 'deblazed/r20130912.108.fits', 'deblazed/r20130912.95.fits', 'deblazed/r20091231.205.fits', 'deblazed/r20130912.143.fits', 'deblazed/r20130629.2.fits', 'deblazed/r20091231.122.fits', 'deblazed/r20130629.119.fits', 'deblazed/r20091231.169.fits', 'deblazed/r20150606.69.fits', 'deblazed/r20091231.99.fits', 'deblazed/r20091231.70.fits', 'deblazed/r20150606.80.fits', 'deblazed/r20091231.180.fits', 'deblazed/r20150606.115.fits', 'deblazed/r20091231.267.fits', 'deblazed/r20130912.121.fits', 'deblazed/r20130629.85.fits', 'deblazed/r20130912.110.fits', 'deblazed/r20091231.256.fits', 'deblazed/r20150606.124.fits', 'deblazed/r20130629.16.fits', 'deblazed/r20091231.158.fits', 'deblazed/r20091231.113.fits', 'deblazed/r20130912.78.fits', 'deblazed/r20091231.144.fits', 'deblazed/r20091231.201.fits', 'deblazed/r20130912.147.fits', 'deblazed/r20130912.91.fits', 'deblazed/r20150606.138.fits', 'deblazed/r20091231.6.fits', 'deblazed/r20130629.6.fits', 'deblazed/r20130629.99.fits', 'deblazed/r20150606.109.fits', 'deblazed/r20130912.176.fits', 'deblazed/r20091231.230.fits', 'deblazed/r20150606.142.fits', 'deblazed/r20091231.85.fits', 'deblazed/r20150606.75.fits', 'deblazed/r20091231.175.fits', 'deblazed/r20130629.70.fits', 'deblazed/r20130629.105.fits', 'deblazed/r20091231.219.fits', 'deblazed/r20130912.114.fits', 'deblazed/r20150606.120.fits', 'deblazed/r20091231.252.fits', 'deblazed/r20130912.89.fits', 'deblazed/r20091231.117.fits', 'deblazed/r20130629.12.fits', 'deblazed/r20091231.126.fits', 'deblazed/r20150606.84.fits', 'deblazed/r20091231.74.fits', 'deblazed/r20130912.4.fits', 'deblazed/r20091231.263.fits', 'deblazed/r20150606.111.fits', 'deblazed/r20130912.125.fits', 'deblazed/r20130629.81.fits', 'deblazed/r20091231.184.fits', 'deblazed/r20091231.228.fits', 'deblazed/r20091231.91.fits', 'deblazed/r20150606.61.fits', 'deblazed/r20091231.161.fits', 'deblazed/r20091231.286.fits', 'deblazed/r20130629.111.fits', 'deblazed/r20130912.129.fits', 'deblazed/r20091231.188.fits', 'deblazed/r20130912.162.fits', 'deblazed/r20150606.156.fits', 'deblazed/r20091231.224.fits', 'deblazed/r20150606.88.fits', 'deblazed/r20130912.8.fits', 'deblazed/r20091231.78.fits', 'deblazed/r20091231.215.fits', 'deblazed/r20130912.153.fits', 'deblazed/r20130912.85.fits', 'deblazed/r20130912.118.fits', 'deblazed/r20130629.120.fits', 'deblazed/r20091231.150.fits', 'deblazed/r20150606.90.fits', 'deblazed/r20150606.6.fits', 'deblazed/r20130629.95.fits', 'deblazed/r20150606.105.fits', 'deblazed/r20091231.277.fits', 'deblazed/r20130912.131.fits', 'deblazed/r20091231.190.fits', 'deblazed/r20091231.179.fits', 'deblazed/r20130629.109.fits', 'deblazed/r20091231.132.fits', 'deblazed/r20091231.89.fits', 'deblazed/r20150606.79.fits', 'deblazed/r20130912.74.fits', 'deblazed/r20091231.103.fits', 'deblazed/r20091231.148.fits', 'deblazed/r20130912.100.fits', 'deblazed/r20091231.246.fits', 'deblazed/r20150606.134.fits', 'deblazed/r20150606.128.fits', 'deblazed/r20130912.81.fits', 'deblazed/r20091231.211.fits', 'deblazed/r20130912.157.fits', 'deblazed/r20091231.154.fits', 'deblazed/r20130912.68.fits', 'deblazed/r20150606.65.fits', 'deblazed/r20091231.95.fits', 'deblazed/r20130629.115.fits', 'deblazed/r20091231.165.fits', 'deblazed/r20130912.166.fits', 'deblazed/r20091231.220.fits', 'deblazed/r20150606.152.fits', 'deblazed/r20150606.119.fits', 'deblazed/r20130629.89.fits', 'deblazed/r20091231.107.fits', 'deblazed/r20130912.70.fits', 'deblazed/r20130912.99.fits', 'deblazed/r20130912.104.fits', 'deblazed/r20150606.130.fits', 'deblazed/r20091231.242.fits', 'deblazed/r20091231.209.fits', 'deblazed/r20150606.94.fits', 'deblazed/r20150606.2.fits', 'deblazed/r20091231.238.fits', 'deblazed/r20091231.194.fits', 'deblazed/r20130629.91.fits', 'deblazed/r20091231.273.fits', 'deblazed/r20150606.101.fits', 'deblazed/r20130912.135.fits', 'deblazed/r20091231.136.fits', 'deblazed/r20130629.78.fits'], 'rv': [], 'files': ['files/vst185144.csv'], 'database': 'prvState.db'}\n"
     ]
    }
   ],
   "source": [
    "import json\n",
    "from hiresprv.download import Download\n",
    "\n",
    "data = Download('prv.cookies')\n",
    "\n",
    "listing = data.directory_listing()\n",
    "\n",
    "print(listing)"
   ]
  },
  {
   "cell_type": "markdown",
   "metadata": {},
   "source": [
    "### File Download\n",
    "\n",
    "Any of the files in the listing can be retrieve by name."
   ]
  },
  {
   "cell_type": "code",
   "execution_count": 2,
   "metadata": {},
   "outputs": [
    {
     "name": "stdout",
     "output_type": "stream",
     "text": [
      "{'status': 'ok', 'msg': ''}\n"
     ]
    }
   ],
   "source": [
    "from hiresprv.download import Download\n",
    "\n",
    "data = Download('prv.cookies')\n",
    "\n",
    "rtn = data.download('deblazed/r20091231.238.fits', 'deblazed_example.fits')\n",
    "\n",
    "print(rtn)"
   ]
  },
  {
   "cell_type": "markdown",
   "metadata": {},
   "source": [
    "\n",
    "### Product Retrieval\n",
    "\n",
    "There is a utility function for retrieving the RV curves (CSV files) for each target\n",
    "(similarly, there is a function -- data.spectrum -- for retrieving the 1D FITS spectrum files)."
   ]
  },
  {
   "cell_type": "code",
   "execution_count": 3,
   "metadata": {},
   "outputs": [
    {
     "name": "stdout",
     "output_type": "stream",
     "text": [
      "BJD_TDB,RV,RV_ERR,BC,ADU,CHI2\n",
      "15196.69208800001,-1.943826130732300,0.790838,-4620.095214843750,52469,1.04605\n",
      "15196.69270200003,0.9499493348483788,0.766279,-4620.210937500000,51810,1.04807\n",
      "15196.69329199987,2.105588684332027,0.793553,-4620.320800781250,49018,1.05613\n",
      "17180.10972899990,-4.082477614453012,0.879030,3189.794921875000,55280,1.10551\n",
      "17180.11030799989,2.432186318703896,0.808950,3189.327880859375,55894,1.10709\n",
      "17180.11088699987,0.2617517122871171,0.854971,3188.863037109375,49070,1.10138\n"
     ]
    }
   ],
   "source": [
    "from hiresprv.download import Download\n",
    "\n",
    "data = Download('prv.cookies')\n",
    "\n",
    "rtn = data.rvcurve('185144')\n",
    "\n",
    "with open('vst185144.csv', 'r') as file:\n",
    "  for line in file:\n",
    "    print(line, end='')\n"
   ]
  },
  {
   "cell_type": "code",
   "execution_count": null,
   "metadata": {
    "collapsed": true
   },
   "outputs": [],
   "source": []
  }
 ],
 "metadata": {
  "kernelspec": {
   "display_name": "Python 3",
   "language": "python",
   "name": "python3"
  },
  "language_info": {
   "codemirror_mode": {
    "name": "ipython",
    "version": 3
   },
   "file_extension": ".py",
   "mimetype": "text/x-python",
   "name": "python",
   "nbconvert_exporter": "python",
   "pygments_lexer": "ipython3",
   "version": "3.6.5"
  }
 },
 "nbformat": 4,
 "nbformat_minor": 2
}
