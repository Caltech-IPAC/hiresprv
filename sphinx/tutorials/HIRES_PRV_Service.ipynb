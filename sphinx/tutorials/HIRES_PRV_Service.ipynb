{
 "cells": [
  {
   "cell_type": "markdown",
   "metadata": {},
   "source": [
    "# Data Reduction Tutorial\n",
    "\n",
    "<b><i>This service enables reduction and analysis of precision radial velocity (PRV) data from the HIRES Keck instrument. </i></b>"
   ]
  },
  {
   "cell_type": "markdown",
   "metadata": {},
   "source": [
    "<i><b><font style=\"color: red;\">This notebook is meant to be a template to set up your own processing using the code snippets provided here. The notebook may not run exactly as presented if you attempt to run the full notebook directly. The code has not been rigorously tested from within a notebook environemnt.</font></b></i>\n",
    "\n",
    "This notebook introduces the Keck HIRES Precision Radial Velocity (PRV) pipeline service and works through one specific example. There are number of variations, mostly having to do with planning processing, which will be covered in more detail by other notebooks but here you will see all the basics.\n",
    "\n",
    "The notebook is kept with the HIRES PRV Python access toolkit in <a href=\"https://github.com/Caltech-IPAC/hiresprv\">GitHub: https://github.com/Caltech-IPAC/hiresprv</a>"
   ]
  },
  {
   "cell_type": "markdown",
   "metadata": {},
   "source": [
    "## Login\n",
    "\n",
    "Logging in the first time creates a workspace for the user and associates it with a KOA account.\n",
    "\n",
    "Users of this service must have <a href=\"https://koa.ipac.caltech.edu\">Keck Observatory Archive (KOA)</a> accounts and use that login here to gain access to their data.  Even researchers planning to use only public data will need a KOA login as this service is maintaining persistent storage under that ID.\n",
    "\n",
    "The login is persisted through the use of HTTP cookies and logging in from multiple clients will connect the user to the same account, storage, and processing history.  This environment (user workspace) is permanent as we expect some on-going research to span years.  The login for a give client machine need only be done once, assuming the cookie file in the local storage is not deleted.  If it is, logging in again will reconstruct it.\n",
    "\n",
    "The cookie file, processing state information, and downloaded results like 1D spectra and RV curve tables will be kept locally in the same space as this notebook.  If you wish to change that, simply add in whatever directory management and navigation you like."
   ]
  },
  {
   "cell_type": "code",
   "execution_count": 9,
   "metadata": {},
   "outputs": [
    {
     "name": "stdout",
     "output_type": "stream",
     "text": [
      "KOA userid: koaadmin\n",
      "KOA Password: ········\n",
      "Successful login as koaadmin\n"
     ]
    }
   ],
   "source": [
    "from IPython.display import IFrame\n",
    "from hiresprv.auth import login\n",
    "\n",
    "login('prv.cookies')"
   ]
  },
  {
   "cell_type": "markdown",
   "metadata": {},
   "source": [
    "## KOA Data Retrieval\n",
    "\n",
    "The PRV workspace first needs to be populated with data from KOA.  This can be done all at once, if the data exists, or incrementally as the data are taken/identified.\n",
    "\n",
    "This step is more than a simple data transfer.  \"Raw reduction\" of the data, which converts the 2D CCD echelle images to 1D spectra, is done up-front as the data are retrieved a night at a time.  The UT dates you give here are actually shifted a few hours to catch any calibration data collected in the afternoon of the same (Hawaii-local) day."
   ]
  },
  {
   "cell_type": "code",
   "execution_count": 2,
   "metadata": {},
   "outputs": [
    {
     "name": "stdout",
     "output_type": "stream",
     "text": [
      "{\n",
      "    \"status\": \"ok\",\n",
      "    \"msg\": \"Processing dates in background.\"\n",
      "}\n",
      "\n"
     ]
    }
   ],
   "source": [
    "from hiresprv.archive import Archive\n",
    "\n",
    "koa = Archive('prv.cookies')\n",
    "\n",
    "rtn = koa.by_dates(\"\"\"2009-12-31\n",
    "2013-06-29\n",
    "2013-09-12\n",
    "2015-06-06\"\"\")\n"
   ]
  },
  {
   "cell_type": "markdown",
   "metadata": {},
   "source": [
    "\n",
    "\n",
    "Note that since the data in the workspace are permanent, repeated request for the same data would not change anything and so those dates will be ignored.  Therefore, you can add to the above list or replace it with new dates as you choose.  Dates must be formatted as YYYY-MM-DD.\n",
    "\n",
    "The above service responds immediately with an acknowledgement of the request and starts the actual transfer and raw data reduction (which can take some time) as a background job.  The job status can be checked by polling or can be monitored using the function below.  While one retrieval job (or processing job below) is running, no others can be initiated."
   ]
  },
  {
   "cell_type": "markdown",
   "metadata": {},
   "source": [
    "### PRV Processing Monitor\n",
    "\n",
    "Some steps in the PRV processing can take quite a long time (hours) and we do not want to tie up this notebook page waiting for it to finish.  Below we show how to retrieve a snapshot of the status (and you would have to poll manually to track the progress of the job) but the preferred approach is to start a real-time monitor in a custom page/tab which uses Javascript and an HTTP Event stream.  Run the next cell to generate a link to this monitor:"
   ]
  },
  {
   "cell_type": "code",
   "execution_count": 5,
   "metadata": {},
   "outputs": [
    {
     "data": {
      "text/html": [
       "Launch <a href=\"http://hiresprv.ipac.caltech.edu/applications/prvMonitor/monitor.html?workspace=prv_20181217_090643_16445\" target=\"_blank\">real-time monitor</a>."
      ],
      "text/plain": [
       "<IPython.core.display.HTML object>"
      ]
     },
     "execution_count": 5,
     "metadata": {},
     "output_type": "execute_result"
    }
   ],
   "source": [
    "from hiresprv.status import Status\n",
    "from IPython.core.display import HTML\n",
    "\n",
    "monitor = Status('prv.cookies')\n",
    "\n",
    "link = monitor.generate_link()\n",
    "\n",
    "HTML(link)"
   ]
  },
  {
   "cell_type": "markdown",
   "metadata": {},
   "source": [
    "But if you still want a static status snapshoot, run the following:"
   ]
  },
  {
   "cell_type": "code",
   "execution_count": 10,
   "metadata": {
    "scrolled": true
   },
   "outputs": [
    {
     "data": {
      "text/html": [
       "\n",
       "        <iframe\n",
       "            width=\"950\"\n",
       "            height=\"500\"\n",
       "            src=\"http://hiresprv.ipac.caltech.edu/cgi-bin/prvMonitor/nph-prvMonitor?workspace=prv_20181217_090643_16445&format=html\"\n",
       "            frameborder=\"0\"\n",
       "            allowfullscreen\n",
       "        ></iframe>\n",
       "        "
      ],
      "text/plain": [
       "<IPython.lib.display.IFrame at 0x10e0566d8>"
      ]
     },
     "execution_count": 10,
     "metadata": {},
     "output_type": "execute_result"
    }
   ],
   "source": [
    "from hiresprv.status import Status\n",
    "\n",
    "monitor = Status('prv.cookies')\n",
    "\n",
    "url = monitor.processing_status()\n",
    "\n",
    "IFrame(url, 950, 500)"
   ]
  },
  {
   "cell_type": "markdown",
   "metadata": {},
   "source": [
    "### Metadata\n",
    "\n",
    "Once data have been retrieved and the \"nightly\" raw reduction performed, a set of records is added to a persistent metadata table, one row is added per observation.  These observations are all taken through the HIRES PRV instrument (2D CCD) and will have been reduced to 1D spectra by the raw reduction.  They fall into five classes:\n",
    "\n",
    "<ul>\n",
    "<li><b>RV observations</b> -- Multiple observations of a star with the iodine cell in the light path.  Precision, relative radial velocities are calculated for this type of observation. <p/></li>\n",
    "    \n",
    "<li><b>Templates</b> -- One long observation of the same star without iodine, for reference.<p/></li>\n",
    "    \n",
    "<li><b>B stars</b> -- A set of observations of rapidly rotating B stars bracketing the template observation and used to reduce it.<p/></li>\n",
    "    \n",
    "<li><b>Iodine</b> -- Reference observation of iodine for nightly calibration.<p/></li>\n",
    "    \n",
    "<li>Miscellaneous other calibration observations (labelled as \"<b>Unknown</b>\").<p/></li>\n",
    "</ul>\n",
    "\n",
    "By inspecting this table, the user can determine what objects were observed, whether there are template observations for them (and adequate B star data to reduce a template), and whether there are enough RV measurements to generate a final RV curve.\n",
    "\n",
    "With a small metadata table, this is simple enough to do by inspection but a typical workspace can easily have thousands of files covering tens or hundreds of objects.  Furthermore, since observations for a single object are frequently spread out over years, the metadata table is often fairly thorougly mixed in time.\n",
    "\n",
    "Luckily, there are a number of tools available in client-side Python subset and organize the metadata, so we provide it for download as a CSV table or an SQLite binary file or even, as here, as a simple HTML table.  The workspace copy of the data is maintained in an SQLite database so we also provide a basic filtering mechanism as an optional addition to the download.  This filtering is often adequate for basic processing scenarios.  \n",
    "\n",
    "Note that metadata retrieval can't be done while the system is \"busy\" (downloading additional data or further reducing data in the workspace). Otherwise, metadata downloads can be done at any time.\n",
    "\n",
    "Also note that the client-side file will become out-of-date once new data download or processing requests are submitted.  It is up to the user to re-request the new metadata.\n"
   ]
  },
  {
   "cell_type": "code",
   "execution_count": 11,
   "metadata": {
    "scrolled": false
   },
   "outputs": [
    {
     "data": {
      "text/html": [
       "\n",
       "        <iframe\n",
       "            width=\"950\"\n",
       "            height=\"500\"\n",
       "            src=\"http://hiresprv.ipac.caltech.edu/cgi-bin/idlDriver/nph-prvState?workspace=prv_20181217_090643_16445&format=html\"\n",
       "            frameborder=\"0\"\n",
       "            allowfullscreen\n",
       "        ></iframe>\n",
       "        "
      ],
      "text/plain": [
       "<IPython.lib.display.IFrame at 0x10ff4af98>"
      ]
     },
     "execution_count": 11,
     "metadata": {},
     "output_type": "execute_result"
    }
   ],
   "source": [
    "from hiresprv.database import Database\n",
    "\n",
    "state = Database('prv.cookies')\n",
    "\n",
    "url = state.search()\n",
    "\n",
    "IFrame(url, 950,  500)"
   ]
  },
  {
   "cell_type": "markdown",
   "metadata": {},
   "source": [
    "## Reducing RV Measurements for a Star\n",
    "\n",
    "### Subsetting the Metadata: Single Target\n",
    "\n",
    "Ultimately, to make an RV curve for one star we need to reduce its observations into RV measurements.  Assuming there are adequate B star observations to reduce the template, we can isolate appropriate records in the metadata above by simply filtering on TARGET name.  There are many ways to do this; in our case we we used the remote SQLite query capability and filtered it with <p/>\n",
    "\n",
    "<tt>select DATE, OBTYPE, FILENAME, TARGET, BJD, BCVEL from FILES where TARGET like 'HD185144';</tt> \n",
    "\n",
    "The resulting records are shown below."
   ]
  },
  {
   "cell_type": "code",
   "execution_count": 12,
   "metadata": {
    "scrolled": false
   },
   "outputs": [
    {
     "data": {
      "text/html": [
       "\n",
       "        <iframe\n",
       "            width=\"700\"\n",
       "            height=\"325\"\n",
       "            src=\"http://hiresprv.ipac.caltech.edu/cgi-bin/idlDriver/nph-prvState?workspace=prv_20181217_090643_16445&format=html&sql=select DATE, OBTYPE, FILENAME, TARGET, BJD, BCVEL from FILES where TARGET like 'HD185144';\"\n",
       "            frameborder=\"0\"\n",
       "            allowfullscreen\n",
       "        ></iframe>\n",
       "        "
      ],
      "text/plain": [
       "<IPython.lib.display.IFrame at 0x10ff669e8>"
      ]
     },
     "execution_count": 12,
     "metadata": {},
     "output_type": "execute_result"
    }
   ],
   "source": [
    "url = state.search(sql=\"select DATE, OBTYPE, FILENAME, TARGET, BJD, BCVEL from FILES where TARGET like 'HD185144';\")\n",
    "\n",
    "IFrame(url, 700,  325)"
   ]
  },
  {
   "cell_type": "markdown",
   "metadata": {},
   "source": [
    "### Templates and B-stars\n",
    "\n",
    "Another subset that comes up is matching B-Star observations with the template observations they will be used with.  This can be many to many so the easiest quick look is just to list out all B-star and Template observations in time order and then match visually:<p/>\n",
    "\n",
    "<tt>select DATE, OBTYPE, FILENAME, TARGET, BJD from FILES \n",
    "    where OBTYPE like 'TEMPLATE' or OBTYPE like 'B Star';</tt> \n",
    "\n",
    "The resulting records are shown below."
   ]
  },
  {
   "cell_type": "code",
   "execution_count": 13,
   "metadata": {},
   "outputs": [
    {
     "data": {
      "text/html": [
       "\n",
       "        <iframe\n",
       "            width=\"700\"\n",
       "            height=\"325\"\n",
       "            src=\"http://hiresprv.ipac.caltech.edu/cgi-bin/idlDriver/nph-prvState?workspace=prv_20181217_090643_16445&format=html&sql=select DATE, OBTYPE, FILENAME, TARGET, BJD from FILES where OBTYPE like 'TEMPLATE' or OBTYPE like 'B Star';\"\n",
       "            frameborder=\"0\"\n",
       "            allowfullscreen\n",
       "        ></iframe>\n",
       "        "
      ],
      "text/plain": [
       "<IPython.lib.display.IFrame at 0x10ff66978>"
      ]
     },
     "execution_count": 13,
     "metadata": {},
     "output_type": "execute_result"
    }
   ],
   "source": [
    "url = state.search(sql=\"select DATE, OBTYPE, FILENAME, TARGET, BJD from FILES where OBTYPE like 'TEMPLATE' or OBTYPE like 'B Star';\")\n",
    "\n",
    "IFrame(url, 700,  325)"
   ]
  },
  {
   "cell_type": "markdown",
   "metadata": {},
   "source": [
    "### RV Pipeline Processing\n",
    "\n",
    "This shows that on 12/31/2009 three separate RV observations were made of HD185144 followed by five template observations (which the pipeline will combine into a single template).  Five years later, another three RV observations were made.\n",
    "\n",
    "As with the data download, the further reduction steps in the pipeline can be quite lengthy (minutes to hours each), so rather than have the user monitor each one, we provide a scripting mechanism so complex reduction jobs can be submitted in on shot.\n",
    "\n",
    "In order to turn any of the RV observations into an RV value, we need the template.  So we will generate that first.  Since it is possible to repeat the template observations on more than one day, we need to explicitly state which object and which day.  The script command for this is:\n",
    "\n",
    "<pre>template 185144 20091231</pre>\n",
    "\n",
    "To reduce an RV measurement, we have to refer to this template (the target name is enough) and specify which file to reduce.  For example:\n",
    "\n",
    "<pre>rv 185144 r20091231.7</pre>\n",
    "\n",
    "Finally, once we have a set of RV measurements for an object, we a generate an RV curve (the pipeline finds all the appropriate RV measurements):\n",
    "\n",
    "<pre>rvcurve 185144</pre>\n",
    "\n",
    "As long as we follow the general rules that we need a template before we can reduce an RV measurement and we need at least three RV measurements before we can generate an RV curve, we can otherwise scripte things in whatever order we wish (<i>e.g.</i> all the templates first).\n",
    "\n",
    "All of this is submitted to the pipeline as a text script:\n",
    "\n"
   ]
  },
  {
   "cell_type": "code",
   "execution_count": 10,
   "metadata": {
    "scrolled": true
   },
   "outputs": [
    {
     "name": "stdout",
     "output_type": "stream",
     "text": [
      "status= ok\n",
      "msg= Script running in background. Consult monitor for status.\n",
      "None\n"
     ]
    }
   ],
   "source": [
    "from hiresprv.idldriver import Idldriver\n",
    "\n",
    "idl = Idldriver('prv.cookies')\n",
    "\n",
    "rtn = idl.run_script(\"\"\"\n",
    "template 185144 20091231\n",
    "rv 185144 r20091231.72\n",
    "rv 185144 r20091231.73\n",
    "rv 185144 r20091231.74\n",
    "rv 185144 r20150606.145\n",
    "rv 185144 r20150606.146\n",
    "rv 185144 r20150606.147\n",
    "rvcurve 185144\n",
    "\"\"\")\n",
    "\n",
    "print(rtn)"
   ]
  },
  {
   "cell_type": "markdown",
   "metadata": {},
   "source": [
    "### Monitoring (again)\n",
    "\n",
    "To monitor the pipeline processing request, the best idea is to use the same monitor page from above.  It stops whenever a given script is finished but you can restart it any time to see the currently-running job.  You can also insert a monitor start-up or status polling call here as well. "
   ]
  },
  {
   "cell_type": "markdown",
   "metadata": {},
   "source": [
    "\n",
    "### Product Retrieval\n",
    "\n",
    "There is a utility function for retrieving the RV curves (CSV files) for each target\n",
    "(similarly, there is a function -- data.spectrum -- for retrieving the 1D FITS spectrum files)."
   ]
  },
  {
   "cell_type": "code",
   "execution_count": 5,
   "metadata": {
    "scrolled": true
   },
   "outputs": [
    {
     "name": "stdout",
     "output_type": "stream",
     "text": [
      "BJD_TDB,RV,RV_ERR,BC,ADU,CHI2\n",
      "15196.69208800001,-2.860674413602231,0.789710,-4620.095214843750,52362,1.05080\n",
      "15196.69270200003,1.730315543645411,0.812607,-4620.210937500000,51591,1.04891\n",
      "15196.69329199987,1.431450932849171,0.803164,-4620.320800781250,48950,1.05804\n",
      "17180.10972899990,-2.845576383390323,0.890091,3189.794921875000,55029,1.10542\n",
      "17180.11030799989,1.235438116773508,0.825978,3189.327880859375,55717,1.10771\n",
      "17180.11088699987,1.047083913731319,0.828699,3188.863037109375,48769,1.10120\n"
     ]
    }
   ],
   "source": [
    "from hiresprv.download import Download\n",
    "\n",
    "data = Download('prv.cookies')\n",
    "\n",
    "rtn = data.rvcurve('185144')\n",
    "\n",
    "with open('vst185144.csv', 'r') as file:\n",
    "  for line in file:\n",
    "    print(line, end='')\n"
   ]
  }
 ],
 "metadata": {
  "kernelspec": {
   "display_name": "Python 3",
   "language": "python",
   "name": "python3"
  },
  "language_info": {
   "codemirror_mode": {
    "name": "ipython",
    "version": 3
   },
   "file_extension": ".py",
   "mimetype": "text/x-python",
   "name": "python",
   "nbconvert_exporter": "python",
   "pygments_lexer": "ipython3",
   "version": "3.6.8"
  }
 },
 "nbformat": 4,
 "nbformat_minor": 2
}
